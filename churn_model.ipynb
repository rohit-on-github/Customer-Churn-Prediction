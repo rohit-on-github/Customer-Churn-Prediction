# Import necessary libraries
import pandas as pd
from sklearn.model_selection import train_test_split
from sklearn.ensemble import RandomForestClassifier
from sklearn.metrics import accuracy_score
import pickle

# Load dataset (using a sample dataset available online)
data = pd.read_csv('https://raw.githubusercontent.com/IBM/customer-churn-prediction/master/WA_Fn-UseC_-Telco-Customer-Churn.csv')

# Data Preprocessing
data = data.dropna()  # Handle missing values
data['Churn'] = data['Churn'].map({'Yes': 1, 'No': 0})  # Convert target column to binary

# Feature engineering (converting categorical to numerical)
data = pd.get_dummies(data.drop(columns=['customerID']), drop_first=True)

# Split data into training and testing sets
X = data.drop('Churn', axis=1)
y = data['Churn']
X_train, X_test, y_train, y_test = train_test_split(X, y, test_size=0.3, random_state=42)

# Build a Random Forest model
model = RandomForestClassifier(n_estimators=100, random_state=42)
model.fit(X_train, y_train)

# Make predictions and evaluate
y_pred = model.predict(X_test)
accuracy = accuracy_score(y_test, y_pred)
print(f'Accuracy: {accuracy * 100:.2f}%')

# Save the trained model
with open('model.pkl', 'wb') as f:
    pickle.dump(model, f)
